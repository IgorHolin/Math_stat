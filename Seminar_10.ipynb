{
  "nbformat": 4,
  "nbformat_minor": 0,
  "metadata": {
    "colab": {
      "provenance": [],
      "authorship_tag": "ABX9TyP0YcqUAmtrwKgm5SV8ohx/",
      "include_colab_link": true
    },
    "kernelspec": {
      "name": "python3",
      "display_name": "Python 3"
    },
    "language_info": {
      "name": "python"
    }
  },
  "cells": [
    {
      "cell_type": "markdown",
      "metadata": {
        "id": "view-in-github",
        "colab_type": "text"
      },
      "source": [
        "<a href=\"https://colab.research.google.com/github/IgorHolin/Math_stat/blob/main/Seminar_10.ipynb\" target=\"_parent\"><img src=\"https://colab.research.google.com/assets/colab-badge.svg\" alt=\"Open In Colab\"/></a>"
      ]
    },
    {
      "cell_type": "code",
      "execution_count": 30,
      "metadata": {
        "id": "xIfDMGrnnGBV"
      },
      "outputs": [],
      "source": [
        "import numpy as np\n",
        "import scipy.stats as stats\n",
        "import matplotlib.pyplot as plt\n",
        "from statsmodels.stats.multicomp import pairwise_tukeyhsd\n",
        "import pandas as pd "
      ]
    },
    {
      "cell_type": "code",
      "source": [
        "pu_238 = np.array([0.126, 0.133, 0.127, 0.156, 0.503, 0.113, 0.129, 0.124, 1.022, 1.412, 1.533, 1.534, 1.437, 1.439, 1.375, 1.153, 0.201, 0.176, 0.239, 0.102, 1.070, 0.851, 0.125, 0.142, 0.352, 0.351, 0.346, 0.217, 1.068, 1.171, 1.213, 1.226, 1.111, 0.183, 0.162, 0.113, 1.309, 1.638, 1.589, 1.411, 1.457, 0.397, 0.328, 0.242, 1.367])\n",
        "pu_239 = np.array([75.804, 75.515, 75.175, 78.872, 73.317, 79.116, 75.751, 75.326, 63.287, 59.553, 58.688, 58.758, 59.728, 59.544, 59.877, 61.182, 78.244, 78.166, 74.254, 79.840, 62.455, 73.189, 75.968, 75.957, 72.885,72.907, 72.919, 76.089, 70.129, 69.273, 69.147, 68.294, 71.076, 75.714, 76.150, 77.845, 62.382, 60.112, 60.519, 61.585, 61.332, 72.291, 73.451, 74.888, 60.507])\n",
        "pu_240 = np.array([21.204, 21.408, 21.668, 18.428, 20.223, 18.548, 21.162, 21.557, 24.493, 25.576, 25.719, 25.692, 25.146, 25.126, 25.128, 25.100, 18.488, 18.629, 21.515, 17.872, 24.656, 18.285, 20.794, 20.867, 21.718, 21.721, 21.713, 20.225, 18.573, 18.633, 18.640, 18.869, 18.122, 20.750, 20.345, 19.108, 22.754, 23.320, 23.128, 23.133, 23.239, 21.761, 21.429, 20.939, 23.603])\n",
        "pu_241 = np.array([2.180, 2.240, 2.305, 1.906, 4.128, 1.690, 2.260, 2.282, 6.990, 8.027, 8.279, 8.261, 8.377, 8.569, 8.428, 7.802, 2.351, 2.365, 2.901, 1.674, 7.512, 5.597, 2.407, 2.341, 3.618, 3.601, 3.600, 2.556, 7.689, 8.300, 8.363, 8.826, 7.248, 2.488, 2.524, 2.275, 9.311, 9.972, 9.970, 9.339, 9.321, 3.836, 3.419, 2.875, 9.839])"
      ],
      "metadata": {
        "id": "6EmvhMzYoT5q"
      },
      "execution_count": null,
      "outputs": []
    },
    {
      "cell_type": "code",
      "source": [
        "#тест на нормальность\n",
        "print(stats.shapiro(pu_238))\n",
        "print(stats.shapiro(pu_239))\n",
        "print(stats.shapiro(pu_240))\n",
        "print(stats.shapiro(pu_241))\n",
        "# распределены ненормально"
      ],
      "metadata": {
        "colab": {
          "base_uri": "https://localhost:8080/"
        },
        "id": "HxJX0NJGrT2u",
        "outputId": "1ce4a24f-69c1-4a4f-a482-c5463cee5c6a"
      },
      "execution_count": null,
      "outputs": [
        {
          "output_type": "stream",
          "name": "stdout",
          "text": [
            "ShapiroResult(statistic=0.8199635744094849, pvalue=6.733238933520624e-06)\n",
            "ShapiroResult(statistic=0.8647032976150513, pvalue=8.951327617978677e-05)\n",
            "ShapiroResult(statistic=0.9316778182983398, pvalue=0.010755515657365322)\n",
            "ShapiroResult(statistic=0.8336212635040283, pvalue=1.4246789760363754e-05)\n"
          ]
        }
      ]
    },
    {
      "cell_type": "code",
      "source": [
        "#тест на однородность дисперсий\n",
        "print(stats.bartlett(pu_238,pu_239,pu_240,pu_241))\n",
        "# нормальность не соблюдается и дисперсии не однородны\n",
        "# применяем Крускалла\n",
        "print(stats.kruskal(pu_238,pu_239,pu_240,pu_241))"
      ],
      "metadata": {
        "colab": {
          "base_uri": "https://localhost:8080/"
        },
        "id": "ipp4HPwEtwaZ",
        "outputId": "20f04bb9-7348-4121-ad9c-40c18c82e8bb"
      },
      "execution_count": 15,
      "outputs": [
        {
          "output_type": "stream",
          "name": "stdout",
          "text": [
            "BartlettResult(statistic=193.1803716617602, pvalue=1.2547805439253745e-41)\n",
            "KruskalResult(statistic=167.8178522154513, pvalue=3.76478949748032e-36)\n"
          ]
        }
      ]
    },
    {
      "cell_type": "code",
      "source": [
        "jj_1 = np.array([0.71, 0.63, 0.85, 0.44, 0.61, 0.69, 0.92, 0.55, 0.72, 0.77, 0.92, 0.60, 0.83, 0.80, 1.00, 0.77, 0.92, 1.00, 1.24, 1.00, 1.16])\n",
        "jj_2 = np.array([1.30, 1.45, 1.25, 1.26, 1.38, 1.86, 1.56, 1.53, 1.59, 1.83, 1.86, 1.53, 2.07, 2.34, 2.25, 2.16, 2.43, 2.70, 2.25, 2.79, 3.42])\n",
        "jj_3 = np.array([3.69, 3.60, 3.60, 4.32, 4.32, 4.05, 4.86, 5.04, 5.04, 4.41, 5.58, 5.85, 6.57, 5.31, 6.03, 6.39, 6.93, 5.85, 6.93, 7.74, 7.83])\n",
        "jj_4 = np.array([6.12, 7.74, 8.91, 8.28, 6.84, 9.54, 10.26, 9.54, 8.73, 11.88, 12.06, 12.15, 8.91, 14.04, 12.96, 14.85, 9.99, 16.20, 14.67, 16.02, 11.61])"
      ],
      "metadata": {
        "id": "X-Ley7otwIzu"
      },
      "execution_count": 16,
      "outputs": []
    },
    {
      "cell_type": "code",
      "source": [
        "print(stats.shapiro(jj_1))\n",
        "print(stats.shapiro(jj_2))\n",
        "print(stats.shapiro(jj_3))\n",
        "print(stats.shapiro(jj_4))"
      ],
      "metadata": {
        "colab": {
          "base_uri": "https://localhost:8080/"
        },
        "id": "a82XYboOyuv4",
        "outputId": "50f747d2-56f7-4940-f783-3fd176d73a0d"
      },
      "execution_count": 20,
      "outputs": [
        {
          "output_type": "stream",
          "name": "stdout",
          "text": [
            "ShapiroResult(statistic=0.9837696552276611, pvalue=0.9688368439674377)\n",
            "ShapiroResult(statistic=0.9252572059631348, pvalue=0.11057735979557037)\n",
            "ShapiroResult(statistic=0.9523220062255859, pvalue=0.3765488862991333)\n",
            "ShapiroResult(statistic=0.9590807557106018, pvalue=0.49780386686325073)\n"
          ]
        }
      ]
    },
    {
      "cell_type": "code",
      "source": [
        "print(stats.bartlett(jj_1,jj_2,jj_3,jj_4))\n",
        "print(len(jj_1),len(jj_2),len(jj_3),len(jj_4))\n",
        "# применяем анализ\n",
        "print(stats.f_oneway(jj_1,jj_2,jj_3,jj_4))"
      ],
      "metadata": {
        "colab": {
          "base_uri": "https://localhost:8080/"
        },
        "id": "0AkdiJmcy7uJ",
        "outputId": "6d57c9a3-2afa-43e5-9bad-a782bc65b358"
      },
      "execution_count": 25,
      "outputs": [
        {
          "output_type": "stream",
          "name": "stdout",
          "text": [
            "BartlettResult(statistic=109.62893110687119, pvalue=1.3188378332498392e-23)\n",
            "21 21 21 21\n",
            "F_onewayResult(statistic=162.03157448390618, pvalue=6.81307443530621e-34)\n"
          ]
        }
      ]
    },
    {
      "cell_type": "code",
      "source": [
        "x = np.linspace(1, 21, 21)\n",
        "plt.plot(x, jj_1, 'red')\n",
        "plt.plot(x, jj_2, 'green')\n",
        "plt.plot(x, jj_3, 'yellow')\n",
        "plt.plot(x, jj_4, 'blue')"
      ],
      "metadata": {
        "colab": {
          "base_uri": "https://localhost:8080/",
          "height": 282
        },
        "id": "SlorCI2E1c2n",
        "outputId": "95138f43-9de2-4637-eaa6-96776ac0b97d"
      },
      "execution_count": 29,
      "outputs": [
        {
          "output_type": "execute_result",
          "data": {
            "text/plain": [
              "[<matplotlib.lines.Line2D at 0x7fe5d5290610>]"
            ]
          },
          "metadata": {},
          "execution_count": 29
        },
        {
          "output_type": "display_data",
          "data": {
            "text/plain": [
              "<Figure size 432x288 with 1 Axes>"
            ],
            "image/png": "[encoded data removed]"
          },
          "metadata": {
            "needs_background": "light"
          }
        }
      ]
    },
    {
      "cell_type": "code",
      "source": [
        "df=pd.DataFrame({\"score\":[0.71, 0.63, 0.85, 0.44, 0.61, 0.69, 0.92, 0.55, 0.72, 0.77, 0.92, 0.60, 0.83, 0.80, 1.00, 0.77, 0.92, 1.00, 1.24, 1.00, 1.16, 1.30, 1.45, 1.25, 1.26, 1.38, 1.86, 1.56, 1.53, 1.59, 1.83, 1.86, 1.53, 2.07, 2.34, 2.25, 2.16, 2.43, 2.70, 2.25, 2.79, 3.42,3.69, 3.60, 3.60, 4.32, 4.32, 4.05, 4.86, 5.04, 5.04, 4.41, 5.58, 5.85, 6.57, 5.31, 6.03, 6.39, 6.93, 5.85, 6.93, 7.74, 7.83,6.12, 7.74, 8.91, 8.28, 6.84, 9.54, 10.26, 9.54, 8.73, 11.88, 12.06, 12.15, 8.91, 14.04, 12.96, 14.85, 9.99, 16.20, 14.67, 16.02, 11.61],\n",
        " \"group\":np.repeat([\"JJ_1\",\"JJ_2\",\"JJ_3\",\"JJ_4\"], repeats =21)})\n",
        "tukey=pairwise_tukeyhsd(df[\"score\"],df[\"group\"],alpha =0.05)\n",
        "print(tukey)"
      ],
      "metadata": {
        "colab": {
          "base_uri": "https://localhost:8080/"
        },
        "id": "D84NTeqXAbZh",
        "outputId": "0fd91386-44a8-41d2-87b9-27121e29a696"
      },
      "execution_count": 31,
      "outputs": [
        {
          "output_type": "stream",
          "name": "stdout",
          "text": [
            "Multiple Comparison of Means - Tukey HSD, FWER=0.05 \n",
            "====================================================\n",
            "group1 group2 meandiff p-adj   lower   upper  reject\n",
            "----------------------------------------------------\n",
            "  JJ_1   JJ_2   1.1276 0.1281 -0.2088   2.464  False\n",
            "  JJ_1   JJ_3     4.61  0.001  3.2736  5.9464   True\n",
            "  JJ_1   JJ_4  10.1986  0.001  8.8622  11.535   True\n",
            "  JJ_2   JJ_3   3.4824  0.001   2.146  4.8188   True\n",
            "  JJ_2   JJ_4    9.071  0.001  7.7346 10.4073   True\n",
            "  JJ_3   JJ_4   5.5886  0.001  4.2522   6.925   True\n",
            "----------------------------------------------------\n"
          ]
        }
      ]
    },
    {
      "cell_type": "code",
      "source": [
        "x1 = np.array([92.8 , 95.6, 92.1, 100.6, 96.2, 92.1, 96.7, 97.6, 97.0, 93.9])\n",
        "x2 = np.array([87.1, 84.1, 81.3, 77.0, 86.0, 82.9, 83.0, 85.5, 85.2, 84.6])\n",
        "\n",
        "print(len(x1),len(x2))\n",
        "print(stats.bartlett(x1,x2))\n",
        "print(stats.f_oneway(x1,x2))\n",
        "print(stats.ttest_rel(x1,x2, alternative='greater'))\n",
        "print(stats.ttest_rel(x1,x2, alternative='less'))\n",
        "print(stats.ttest_rel(x1,x2, alternative='two-sided'))"
      ],
      "metadata": {
        "colab": {
          "base_uri": "https://localhost:8080/"
        },
        "id": "O2hK8MrHCHoK",
        "outputId": "e6c0d1d6-4fba-4a80-a355-baf08d4b7076"
      },
      "execution_count": 40,
      "outputs": [
        {
          "output_type": "stream",
          "name": "stdout",
          "text": [
            "10 10\n",
            "BartlettResult(statistic=0.02371052249298307, pvalue=0.877623758816363)\n",
            "F_onewayResult(statistic=87.70282169020996, pvalue=2.4273144030689163e-08)\n",
            "Ttest_relResult(statistic=7.972831441034037, pvalue=1.1372213723408018e-05)\n",
            "Ttest_relResult(statistic=7.972831441034037, pvalue=0.9999886277862766)\n",
            "Ttest_relResult(statistic=7.972831441034037, pvalue=2.2744427446816035e-05)\n"
          ]
        }
      ]
    }
  ]
}