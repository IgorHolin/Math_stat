{
  "nbformat": 4,
  "nbformat_minor": 0,
  "metadata": {
    "colab": {
      "provenance": [],
      "authorship_tag": "ABX9TyMk1PGvoWcXdh4ZRLZUBzkL",
      "include_colab_link": true
    },
    "kernelspec": {
      "name": "python3",
      "display_name": "Python 3"
    },
    "language_info": {
      "name": "python"
    }
  },
  "cells": [
    {
      "cell_type": "markdown",
      "metadata": {
        "id": "view-in-github",
        "colab_type": "text"
      },
      "source": [
        "<a href=\"https://colab.research.google.com/github/IgorHolin/Math_stat/blob/main/HW_10.ipynb\" target=\"_parent\"><img src=\"https://colab.research.google.com/assets/colab-badge.svg\" alt=\"Open In Colab\"/></a>"
      ]
    },
    {
      "cell_type": "code",
      "execution_count": 1,
      "metadata": {
        "id": "RsrZg7eUJp8Z"
      },
      "outputs": [],
      "source": [
        "import numpy as np\n",
        "import scipy.stats as stats\n",
        "import matplotlib.pyplot as plt\n",
        "from statsmodels.stats.multicomp import pairwise_tukeyhsd\n",
        "import pandas as pd"
      ]
    },
    {
      "cell_type": "markdown",
      "source": [
        "Провести дисперсионный анализ для определения того, есть ли различия среднего роста среди взрослых футболистов, хоккеистов и штангистов. Даны значения роста в трех группах случайно выбранных спортсменов: Футболисты: 173, 175, 180, 178, 177, 185, 183, 182. Хоккеисты: 177, 179, 180, 188, 177, 172, 171, 184, 180. Штангисты: 172, 173, 169, 177, 166, 180, 178, 177, 172, 166, 170."
      ],
      "metadata": {
        "id": "-qY3l-3dKw56"
      }
    },
    {
      "cell_type": "code",
      "source": [
        "x1 = np.array([173, 175, 180, 178, 177, 185, 183, 182])\n",
        "x2 = np.array([177, 179, 180, 188, 177, 172, 171, 184, 180])\n",
        "x3 = np.array([172, 173, 169, 177, 166, 180, 178, 177, 172, 166, 170])"
      ],
      "metadata": {
        "id": "iGhKRj4wK0p4"
      },
      "execution_count": 2,
      "outputs": []
    },
    {
      "cell_type": "code",
      "source": [
        "# проверяем объёмы выборок\n",
        "print(len(x1),len(x2),len(x3))\n",
        "print('Объёмы выборок различаются')\n",
        "\n",
        "# проверяем нормальность распределения\n",
        "print(stats.shapiro(x1))\n",
        "print(stats.shapiro(x2))\n",
        "print(stats.shapiro(x3))\n",
        "print('Выборки распределены нормально')\n",
        "\n",
        "# проверяем однородность дисперсий\n",
        "print(stats.bartlett(x1,x2,x3))\n",
        "print('Дисперсии относительно однородны')"
      ],
      "metadata": {
        "colab": {
          "base_uri": "https://localhost:8080/"
        },
        "id": "0yv0IbUNLIB8",
        "outputId": "2b353b3d-81fc-48ad-eb2f-b2e788eb4ca0"
      },
      "execution_count": 7,
      "outputs": [
        {
          "output_type": "stream",
          "name": "stdout",
          "text": [
            "8 9 11\n",
            "Объёмы выборок различаются\n",
            "ShapiroResult(statistic=0.9775081276893616, pvalue=0.9495397210121155)\n",
            "ShapiroResult(statistic=0.9579195976257324, pvalue=0.7763133645057678)\n",
            "ShapiroResult(statistic=0.93868088722229, pvalue=0.5051169991493225)\n",
            "Выборки распределены нормально\n",
            "BartlettResult(statistic=0.4640521043406442, pvalue=0.7929254656083131)\n",
            "Дисперсии относительно однородны\n"
          ]
        }
      ]
    },
    {
      "cell_type": "code",
      "source": [
        "# можем применять анализ\n",
        "print(stats.f_oneway(x1,x2,x3))"
      ],
      "metadata": {
        "colab": {
          "base_uri": "https://localhost:8080/"
        },
        "id": "tkYT90LqM8sN",
        "outputId": "7437b86f-989b-4466-b6b8-290590299621"
      },
      "execution_count": 9,
      "outputs": [
        {
          "output_type": "stream",
          "name": "stdout",
          "text": [
            "F_onewayResult(statistic=5.500053450812596, pvalue=0.010482206918698694)\n"
          ]
        }
      ]
    },
    {
      "cell_type": "markdown",
      "source": [
        "Пускай мы задали уровень статистической значимости α = 5% (0.05), а наша нулевая гипотеза это μ_0 = μ_1 = μ_3. \n",
        "\n",
        "---\n",
        "Тогда, после всех проверок на нормальность и однородность и применения теста мы получае значене p-value = 0.01. Следовательно мы не отвергаем нулевую гипотезу с вероятностью ошибки в 5%.\n",
        "\n",
        "\n"
      ],
      "metadata": {
        "id": "eUDvwx37RLaW"
      }
    }
  ]
}