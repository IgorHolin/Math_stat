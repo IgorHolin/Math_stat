{
  "nbformat": 4,
  "nbformat_minor": 0,
  "metadata": {
    "colab": {
      "provenance": [],
      "authorship_tag": "ABX9TyPtEYqWuw7ut0PLIjype05t",
      "include_colab_link": true
    },
    "kernelspec": {
      "name": "python3",
      "display_name": "Python 3"
    },
    "language_info": {
      "name": "python"
    }
  },
  "cells": [
    {
      "cell_type": "markdown",
      "metadata": {
        "id": "view-in-github",
        "colab_type": "text"
      },
      "source": [
        "<a href=\"https://colab.research.google.com/github/IgorHolin/Math_stat/blob/main/Seminar_9.ipynb\" target=\"_parent\"><img src=\"https://colab.research.google.com/assets/colab-badge.svg\" alt=\"Open In Colab\"/></a>"
      ]
    },
    {
      "cell_type": "code",
      "source": [
        "import numpy as np\n",
        "from scipy import stats as stats\n",
        "import matplotlib.pyplot as plt\n",
        "from sklearn.linear_model import LinearRegression"
      ],
      "metadata": {
        "id": "-ojW3t2ztPK0"
      },
      "execution_count": 22,
      "outputs": []
    },
    {
      "cell_type": "markdown",
      "source": [
        "Постройте графики для приведенных наборов данных. Найдите коэффициенты для линии \n",
        "регрессии и коэффициенты детерминации. Что вы замечаете? Нанесите на график модель \n",
        "линейной регрессии.\n"
      ],
      "metadata": {
        "id": "xNjVLYs4tIaI"
      }
    },
    {
      "cell_type": "code",
      "execution_count": 11,
      "metadata": {
        "id": "ERh-sgTAsuO4"
      },
      "outputs": [],
      "source": [
        "X1= np.array([30, 30, 40, 40])\n",
        "Y1= np.array([37, 47, 50, 60]) \n",
        "\n",
        "X2= np.array([30, 30, 40, 40, 20, 20, 50, 50]) \n",
        "Y2= np.array([37, 47, 50, 60, 25, 35, 62, 72]) \n",
        "\n",
        "X3 = np.array([30, 30, 40, 40, 20, 20, 50, 50, 10, 10, 60, 60]) \n",
        "Y3 = np.array([37, 47, 50, 60, 25, 35, 62, 72, 13, 23, 74, 84]) \n",
        "\n"
      ]
    },
    {
      "cell_type": "code",
      "source": [
        "# y = a + bx\n",
        "b1 = (np.mean(X1*Y1) - np.mean(X1)*np.mean(Y1))/(np.mean(X1**2) - np.mean(X1)**2)\n",
        "print(b1)\n",
        "a = np.mean(Y1) - b1*np.mean(X1)\n",
        "print(a)\n",
        "r = np.corrcoef(X1,Y1)\n",
        "det_coef = r[1,0]**2\n",
        "print(det_coef)\n",
        "y_pred = a + b1*X1\n",
        "print(y_pred)"
      ],
      "metadata": {
        "colab": {
          "base_uri": "https://localhost:8080/"
        },
        "id": "yUEl73nTu9wg",
        "outputId": "e36d5fed-777d-4bb5-b9c3-a4fb34571daf"
      },
      "execution_count": 18,
      "outputs": [
        {
          "output_type": "stream",
          "name": "stdout",
          "text": [
            "1.3\n",
            "3.0\n",
            "0.6282527881040891\n",
            "[42. 42. 55. 55.]\n"
          ]
        }
      ]
    },
    {
      "cell_type": "code",
      "source": [
        "plt.scatter(X1,Y1)\n",
        "plt.plot(X1,y_pred)\n",
        "plt.show()"
      ],
      "metadata": {
        "colab": {
          "base_uri": "https://localhost:8080/",
          "height": 265
        },
        "id": "rfIdZaNYu4Yr",
        "outputId": "dbca4b6e-272b-4778-eeb5-ab1fe68991d5"
      },
      "execution_count": 19,
      "outputs": [
        {
          "output_type": "display_data",
          "data": {
            "text/plain": [
              "<Figure size 432x288 with 1 Axes>"
            ],
            "image/png": "[encoded data removed]"
          },
          "metadata": {
            "needs_background": "light"
          }
        }
      ]
    },
    {
      "cell_type": "code",
      "source": [
        "b2 = (np.mean(X2*Y2) - np.mean(X2)*np.mean(Y2))/(np.mean(X2**2) - np.mean(X2)**2)\n",
        "print(b2)\n",
        "a2 = np.mean(Y2) - b2*np.mean(X2)\n",
        "print(a2)\n",
        "r = np.corrcoef(X2,Y2)\n",
        "det_coef2 = r[1,0]**2\n",
        "print(det_coef2)\n",
        "y_pred2 = a2 + b2*X2\n",
        "print(y_pred2)"
      ],
      "metadata": {
        "colab": {
          "base_uri": "https://localhost:8080/"
        },
        "id": "SVZcOckd0xoT",
        "outputId": "3a189cb3-4d3f-4ead-8e73-e0cd04c8916e"
      },
      "execution_count": 20,
      "outputs": [
        {
          "output_type": "stream",
          "name": "stdout",
          "text": [
            "1.24\n",
            "5.100000000000001\n",
            "0.8846950517836597\n",
            "[42.3 42.3 54.7 54.7 29.9 29.9 67.1 67.1]\n"
          ]
        }
      ]
    },
    {
      "cell_type": "code",
      "source": [
        "model = LinearRegression()\n",
        "x1 = X1.reshape(-1,1)\n",
        "y1 = Y1.reshape(-1,1)\n",
        "model.fit(x1,y1)\n",
        "r_sq = model.score(x1,y1)\n",
        "print('determination: ',r_sq)\n",
        "print('intercept: ',model.intercept_)\n",
        "print('slope: ',model.coef_)"
      ],
      "metadata": {
        "colab": {
          "base_uri": "https://localhost:8080/"
        },
        "id": "kMM0V7_Q5Zc1",
        "outputId": "7be5c0cc-b4c4-48bf-abf9-5e3fb2425701"
      },
      "execution_count": 29,
      "outputs": [
        {
          "output_type": "stream",
          "name": "stdout",
          "text": [
            "determination:  0.6282527881040892\n",
            "intercept:  [3.]\n",
            "slope:  [[1.3]]\n"
          ]
        }
      ]
    },
    {
      "cell_type": "code",
      "source": [
        "plt.scatter(X2,Y2)\n",
        "plt.plot(X2,y_pred2)\n",
        "plt.show()"
      ],
      "metadata": {
        "colab": {
          "base_uri": "https://localhost:8080/",
          "height": 265
        },
        "id": "1gibRcgG1Fkm",
        "outputId": "11eec8a0-c62a-4db1-be5a-aa9a5bf84dc2"
      },
      "execution_count": 30,
      "outputs": [
        {
          "output_type": "display_data",
          "data": {
            "text/plain": [
              "<Figure size 432x288 with 1 Axes>"
            ],
            "image/png": "[encoded data removed]"
          },
          "metadata": {
            "needs_background": "light"
          }
        }
      ]
    }
  ]
}