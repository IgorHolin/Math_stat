{
  "nbformat": 4,
  "nbformat_minor": 0,
  "metadata": {
    "colab": {
      "provenance": [],
      "authorship_tag": "ABX9TyOZr3vpnOCotIVWVw14RjKl",
      "include_colab_link": true
    },
    "kernelspec": {
      "name": "python3",
      "display_name": "Python 3"
    },
    "language_info": {
      "name": "python"
    }
  },
  "cells": [
    {
      "cell_type": "markdown",
      "metadata": {
        "id": "view-in-github",
        "colab_type": "text"
      },
      "source": [
        "<a href=\"https://colab.research.google.com/github/IgorHolin/Math_stat/blob/main/Seminar_5.ipynb\" target=\"_parent\"><img src=\"https://colab.research.google.com/assets/colab-badge.svg\" alt=\"Open In Colab\"/></a>"
      ]
    },
    {
      "cell_type": "code",
      "execution_count": 17,
      "metadata": {
        "colab": {
          "base_uri": "https://localhost:8080/"
        },
        "id": "8uYsWWLTXLJJ",
        "outputId": "125e2bce-887f-4cad-f76e-9f86b2708091"
      },
      "outputs": [
        {
          "output_type": "stream",
          "name": "stdout",
          "text": [
            "Ttest_indResult(statistic=1.3998621439504377, pvalue=0.1768757703961257)\n",
            "1.3998621439504377\n",
            "P-value > alpha -> мы не отклоняем гипотезу\n"
          ]
        }
      ],
      "source": [
        "import numpy as np\n",
        "from math import sqrt\n",
        "from scipy import stats\n",
        "\n",
        "\n",
        "x = np.array([2.5, 2.2, 2.6, 2, 2.21, 1.8, 2.4, 2.3, 2.7, 2.7, 1.9])\n",
        "y = np.array([2.5, 1.7, 1.5, 2.5, 1.4, 1.9, 2.3, 2, 2.6, 2.3, 2.2])\n",
        "\n",
        "alpha = 0.05\n",
        "k = len(x)+len(y)-2 #степени свободы\n",
        "q_right = 1 - alpha/2\n",
        "q_left = alpha/2\n",
        "\n",
        "mean_x = np.mean(x)\n",
        "mean_y = np.mean(y)\n",
        "\n",
        "S_x = sum((x-mean_x)**2) / len(x)\n",
        "S_y = sum((y-mean_y)**2) / len(y)\n",
        "\n",
        "stud = (mean_x - mean_y) / sqrt(S_x/(len(x)-1) + S_y/(len(y)-1))\n",
        "c_crit = 2.0860 # таблица степеней свободы\n",
        "\n",
        "print(stats.ttest_ind(x,y))\n",
        "\n",
        "\n",
        "print(stud)\n",
        "print('P-value > alpha -> мы не отклоняем гипотезу')"
      ]
    }
  ]
}