{
  "nbformat": 4,
  "nbformat_minor": 0,
  "metadata": {
    "colab": {
      "provenance": [],
      "authorship_tag": "ABX9TyMShxwxpwoMQPAo6PWtL7eX",
      "include_colab_link": true
    },
    "kernelspec": {
      "name": "python3",
      "display_name": "Python 3"
    },
    "language_info": {
      "name": "python"
    }
  },
  "cells": [
    {
      "cell_type": "markdown",
      "metadata": {
        "id": "view-in-github",
        "colab_type": "text"
      },
      "source": [
        "<a href=\"https://colab.research.google.com/github/IgorHolin/Math_stat/blob/main/HW_4.ipynb\" target=\"_parent\"><img src=\"https://colab.research.google.com/assets/colab-badge.svg\" alt=\"Open In Colab\"/></a>"
      ]
    },
    {
      "cell_type": "code",
      "execution_count": 2,
      "metadata": {
        "colab": {
          "base_uri": "https://localhost:8080/"
        },
        "id": "SpH-1HSb7DZQ",
        "outputId": "102ebce9-3018-4632-fa5b-d39a6d9034e5"
      },
      "outputs": [
        {
          "output_type": "stream",
          "name": "stdout",
          "text": [
            "500.0 30000.0\n"
          ]
        }
      ],
      "source": [
        "#Задача 1\n",
        "#Случайная А имеет равномерное распределение. Промежуток (200;800)\n",
        "#Найти М и D\n",
        "\n",
        "M = (200+800)/2\n",
        "D = (800-200)**2/12\n",
        "print(M,D)"
      ]
    },
    {
      "cell_type": "code",
      "source": [
        "#Задача 2\n",
        "#Случайная непрерывно распределенная величина В\n",
        "#D = 0.2, левая граница = 0.5\n",
        "#Найти правую границу\n",
        "# D = (b-a)^2/12 -> (b-a)^2 = 12*D -> b = sqrt(12*D)-a\n",
        "D = 0.2\n",
        "a = 0.5\n",
        "b = (12*D)**0.5 - a\n",
        "print(b)"
      ],
      "metadata": {
        "colab": {
          "base_uri": "https://localhost:8080/"
        },
        "id": "wqIhEL4l7LPx",
        "outputId": "6bdd4a0b-04c9-401c-bedc-7b981b706bd7"
      },
      "execution_count": 3,
      "outputs": [
        {
          "output_type": "stream",
          "name": "stdout",
          "text": [
            "1.0491933384829668\n"
          ]
        }
      ]
    },
    {
      "cell_type": "code",
      "source": [
        "#Задача 3\n",
        "#Непрерывная случайная величина Х распределена нормально\n",
        "#Плотность распределения f(x) = (1/(4*sqrt(2pi))) * e^(-((x+2)^2)/32)\n",
        "#Найти M(X) - среднее, D(X) - дисперсия, std(X) - СКО\n"
      ],
      "metadata": {
        "id": "rOXU5GwOBLH1"
      },
      "execution_count": null,
      "outputs": []
    }
  ]
}