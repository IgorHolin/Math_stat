{
  "nbformat": 4,
  "nbformat_minor": 0,
  "metadata": {
    "colab": {
      "provenance": [],
      "authorship_tag": "ABX9TyN16PmtkHH/00JF622UES0+",
      "include_colab_link": true
    },
    "kernelspec": {
      "name": "python3",
      "display_name": "Python 3"
    },
    "language_info": {
      "name": "python"
    }
  },
  "cells": [
    {
      "cell_type": "markdown",
      "metadata": {
        "id": "view-in-github",
        "colab_type": "text"
      },
      "source": [
        "<a href=\"https://colab.research.google.com/github/IgorHolin/Math_stat/blob/main/HW_4.ipynb\" target=\"_parent\"><img src=\"https://colab.research.google.com/assets/colab-badge.svg\" alt=\"Open In Colab\"/></a>"
      ]
    },
    {
      "cell_type": "code",
      "execution_count": null,
      "metadata": {
        "colab": {
          "base_uri": "https://localhost:8080/"
        },
        "id": "SpH-1HSb7DZQ",
        "outputId": "102ebce9-3018-4632-fa5b-d39a6d9034e5"
      },
      "outputs": [
        {
          "output_type": "stream",
          "name": "stdout",
          "text": [
            "500.0 30000.0\n"
          ]
        }
      ],
      "source": [
        "#Задача 1\n",
        "#Случайная А имеет равномерное распределение. Промежуток (200;800)\n",
        "#Найти М и D\n",
        "\n",
        "M = (200+800)/2\n",
        "D = (800-200)**2/12\n",
        "print(M,D)"
      ]
    },
    {
      "cell_type": "code",
      "source": [
        "#Задача 2\n",
        "#Случайная непрерывно распределенная величина В\n",
        "#D = 0.2, левая граница = 0.5\n",
        "#Найти правую границу\n",
        "# D = (b-a)^2/12 -> (b-a)^2 = 12*D -> b = sqrt(12*D)-a\n",
        "D = 0.2\n",
        "a = 0.5\n",
        "b = (12*D)**0.5 - a\n",
        "print(b)"
      ],
      "metadata": {
        "colab": {
          "base_uri": "https://localhost:8080/"
        },
        "id": "wqIhEL4l7LPx",
        "outputId": "6bdd4a0b-04c9-401c-bedc-7b981b706bd7"
      },
      "execution_count": null,
      "outputs": [
        {
          "output_type": "stream",
          "name": "stdout",
          "text": [
            "1.0491933384829668\n"
          ]
        }
      ]
    },
    {
      "cell_type": "code",
      "source": [
        "#Задача 3\n",
        "#Непрерывная случайная величина Х распределена нормально\n",
        "#Плотность распределения f(x) = (1/(4*sqrt(2pi))) * e^(-((x+2)^2)/32)\n",
        "#Найти M(X) - среднее, D(X) - дисперсия, std(X) - СКО\n",
        "# Из формулы следует, что:\n",
        "M = -2\n",
        "D = (32/2)**0.5\n",
        "std = D**0.5\n",
        "print(M,D,std)"
      ],
      "metadata": {
        "id": "rOXU5GwOBLH1",
        "outputId": "5cb177ab-be0c-42a1-b157-a6239468ac5a",
        "colab": {
          "base_uri": "https://localhost:8080/"
        }
      },
      "execution_count": 1,
      "outputs": [
        {
          "output_type": "stream",
          "name": "stdout",
          "text": [
            "-2 4.0 2.0\n"
          ]
        }
      ]
    },
    {
      "cell_type": "code",
      "source": [
        "#Задача 4\n",
        "#Рост имеет нормальное распределение. Средний рост 174cm, СКО = 8cm\n",
        "#Какова вероятность что случайным образом выбранный человек имеет рост\n",
        "#a) >182cm\n",
        "#b) >190cm\n",
        "#c) (160;190)cm\n",
        "#d) (166;182)cm\n",
        "#e) (158;190)cm\n",
        "#f) <150 || >190 cm\n",
        "#g)  <150 || > 198 cm\n",
        "#h) 166cm<\n",
        "\n",
        "mu = 174\n",
        "std = 8\n",
        "\n",
        "a = (182 - mu)/std\n",
        "b = (190 - mu)/std\n",
        "c1 = (160 - mu)/std\n",
        "c2 = (190 - mu)/std\n",
        "d1 = (166 - mu)/std\n",
        "d2 = (182 - mu)/std\n",
        "e1 = (158 - mu)/std\n",
        "e2 = (190 - mu)/std\n",
        "f1 = (150 - mu)/std\n",
        "f2 = (190 - mu)/std\n",
        "g1 = (150 - mu)/std\n",
        "g2 = (198 - mu)/std\n",
        "h = (166 - mu)/std\n",
        "print(f'{a} -> 15.866%')\n",
        "print(f'{b} -> 2.275%')\n",
        "print(f'{c1,c2} -> {100 - (4.01+2.275)}%')\n",
        "print(f'{d1,d2} -> {100 - 15.866*2}%')\n",
        "print(f'{e1,e2} -> {100 - 2.275*2}%')\n",
        "print(f'{f1,f2} -> {round(0.13 + (100-97.72),2)}%')\n",
        "print(f'{g1,g2} -> {0.013*2}%')\n",
        "print(f'{h} -> 15.866%')\n"
      ],
      "metadata": {
        "id": "BClY83SPi82o",
        "outputId": "46033bcd-76e5-48c1-eb04-32a918210c5b",
        "colab": {
          "base_uri": "https://localhost:8080/"
        }
      },
      "execution_count": 19,
      "outputs": [
        {
          "output_type": "stream",
          "name": "stdout",
          "text": [
            "1.0 -> 15.866%\n",
            "2.0 -> 2.275%\n",
            "(-1.75, 2.0) -> 93.715%\n",
            "(-1.0, 1.0) -> 68.268%\n",
            "(-2.0, 2.0) -> 95.45%\n",
            "(-3.0, 2.0) -> 2.41%\n",
            "(-3.0, 3.0) -> 0.026%\n",
            "-1.0 -> 15.866%\n"
          ]
        }
      ]
    },
    {
      "cell_type": "code",
      "source": [
        "#Задача 5\n",
        "#На сколько СКО отклоняется рост человека равный 190 см\n",
        "#от математического ожидания роста в популяции, в которой:\n",
        "#М(Х) = 178 cm; D(X) = 25 sq.cm\n",
        "\n",
        "M = 178\n",
        "D = 25\n",
        "\n",
        "\n",
        "res = (190-178)/D**0.5\n",
        "print(f'{res} сигм')"
      ],
      "metadata": {
        "id": "7bEUMF0CrmIj",
        "outputId": "3f8be205-ba84-43a4-c503-22b61def3847",
        "colab": {
          "base_uri": "https://localhost:8080/"
        }
      },
      "execution_count": 22,
      "outputs": [
        {
          "output_type": "stream",
          "name": "stdout",
          "text": [
            "2.4 сигм\n"
          ]
        }
      ]
    }
  ]
}