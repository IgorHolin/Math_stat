{
  "nbformat": 4,
  "nbformat_minor": 0,
  "metadata": {
    "colab": {
      "provenance": [],
      "authorship_tag": "ABX9TyM6riUauPw22ZLYOqcxH6OU",
      "include_colab_link": true
    },
    "kernelspec": {
      "name": "python3",
      "display_name": "Python 3"
    },
    "language_info": {
      "name": "python"
    }
  },
  "cells": [
    {
      "cell_type": "markdown",
      "metadata": {
        "id": "view-in-github",
        "colab_type": "text"
      },
      "source": [
        "<a href=\"https://colab.research.google.com/github/IgorHolin/Math_stat/blob/main/HW_9.ipynb\" target=\"_parent\"><img src=\"https://colab.research.google.com/assets/colab-badge.svg\" alt=\"Open In Colab\"/></a>"
      ]
    },
    {
      "cell_type": "code",
      "execution_count": 1,
      "metadata": {
        "id": "IPDUK3BmxkqZ"
      },
      "outputs": [],
      "source": [
        "import numpy as np\n",
        "from scipy import stats as stats\n",
        "import matplotlib.pyplot as plt\n",
        "from sklearn.linear_model import LinearRegression"
      ]
    },
    {
      "cell_type": "markdown",
      "source": [
        "Даны значения величины заработной платы заемщиков банка (zp) и значения их поведенческого кредитного скоринга (ks): zp = [35, 45, 190, 200, 40, 70, 54, 150, 120, 110], ks = [401, 574, 874, 919, 459, 739, 653, 902, 746, 832]. Используя математические операции, посчитать коэффициенты линейной регрессии, приняв за X заработную плату (то есть, zp - признак), а за y - значения скорингового балла (то есть, ks - целевая переменная). Произвести расчет как с использованием intercept, так и без."
      ],
      "metadata": {
        "id": "vU4VK3TNxn5j"
      }
    },
    {
      "cell_type": "code",
      "source": [
        "# y = a + bx - intercept\n",
        "\n",
        "X = np.array([35, 45, 190, 200, 40, 70, 54, 150, 120, 110])\n",
        "Y = np.array([401, 574, 874, 919, 459, 739, 653, 902, 746, 832])\n",
        "# проверка графиком на линейность\n",
        "# plt.scatter(X,Y)\n",
        "# plt.show()\n",
        "b1 = (10*np.sum(X*Y) - np.sum(X) * np.sum(Y))/(10*np.sum(X**2) - np.sum(X)**2)\n",
        "b0 = np.mean(Y) - b1*np.mean(X)\n",
        "print(f'beta_1 = {b1:.3}; beta_0 = {b0:.5}')\n",
        "l = len(X)\n",
        "\n",
        "# y = a + bx\n",
        "y_pred = b0 + b1*X\n",
        "print(y_pred)\n"
      ],
      "metadata": {
        "colab": {
          "base_uri": "https://localhost:8080/"
        },
        "id": "06qmGu2MyBoT",
        "outputId": "88f6f0d6-06ed-4a52-b78f-31f1a5ea4ec0"
      },
      "execution_count": 18,
      "outputs": [
        {
          "output_type": "stream",
          "name": "stdout",
          "text": [
            "beta_1 = 2.62; beta_0 = 444.18\n",
            "[535.89621821 562.10160703 942.07974498 968.2851338  548.99891262\n",
            " 627.61507909 585.68645697 837.25818968 758.64202321 732.43663439]\n"
          ]
        }
      ]
    },
    {
      "cell_type": "markdown",
      "source": [
        "Посчитать коэффициент линейной регрессии при заработной плате (zp), используя градиентный спуск (без intercept)."
      ],
      "metadata": {
        "id": "w9o7SvLX5ShZ"
      }
    },
    {
      "cell_type": "code",
      "source": [
        "alpha = 1e-6\n",
        "B1 = 0.1\n",
        "n = 10\n",
        "\n",
        "def mse_(B1, y = Y, x = X, n = 10):\n",
        "  return np.sum((B1*x - y)**2)/n\n",
        "\n",
        "\n",
        "for i in range(3000):\n",
        "  B1 -= alpha*(2/n)*np.sum((B1 * X - Y)*X)\n",
        "  if i % 500 == 0:\n",
        "    print(f'Iter = {i}; B1 = {B1}, mse = {mse_(B1)}')\n",
        "mse_(0.15182937)\n",
        "\n",
        "#не могу вычислить где тут ошибка"
      ],
      "metadata": {
        "colab": {
          "base_uri": "https://localhost:8080/"
        },
        "id": "ZgzA3erW5TZE",
        "outputId": "3cc31a38-63e5-450c-cea0-b32d63751d64"
      },
      "execution_count": 20,
      "outputs": [
        {
          "output_type": "stream",
          "name": "stdout",
          "text": [
            "Iter = 0; B1 = 0.25952808, mse = 493237.7212546963\n",
            "Iter = 500; B1 = 5.889815595583751, mse = 56516.858416040064\n",
            "Iter = 1000; B1 = 5.8898204201285544, mse = 56516.85841571941\n",
            "Iter = 1500; B1 = 5.889820420132673, mse = 56516.85841571943\n",
            "Iter = 2000; B1 = 5.889820420132673, mse = 56516.85841571943\n",
            "Iter = 2500; B1 = 5.889820420132673, mse = 56516.85841571943\n"
          ]
        },
        {
          "output_type": "execute_result",
          "data": {
            "text/plain": [
              "510105.0939708597"
            ]
          },
          "metadata": {},
          "execution_count": 20
        }
      ]
    }
  ]
}