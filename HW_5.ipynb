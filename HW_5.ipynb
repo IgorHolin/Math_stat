{
  "nbformat": 4,
  "nbformat_minor": 0,
  "metadata": {
    "colab": {
      "provenance": [],
      "authorship_tag": "ABX9TyNwF9OdQ/qnqSeVuKspfT1q",
      "include_colab_link": true
    },
    "kernelspec": {
      "name": "python3",
      "display_name": "Python 3"
    },
    "language_info": {
      "name": "python"
    }
  },
  "cells": [
    {
      "cell_type": "markdown",
      "metadata": {
        "id": "view-in-github",
        "colab_type": "text"
      },
      "source": [
        "<a href=\"https://colab.research.google.com/github/IgorHolin/Math_stat/blob/main/HW_5.ipynb\" target=\"_parent\"><img src=\"https://colab.research.google.com/assets/colab-badge.svg\" alt=\"Open In Colab\"/></a>"
      ]
    },
    {
      "cell_type": "markdown",
      "source": [
        "Задача 1:\n",
        "Когда используется критерий Стьюдента, а когда Z –критерий?"
      ],
      "metadata": {
        "id": "mYJLvipLOk8o"
      }
    },
    {
      "cell_type": "code",
      "execution_count": null,
      "metadata": {
        "id": "DeSXi_cvOeGw"
      },
      "outputs": [],
      "source": [
        "Критерий Стьюдента используется когда неизвестно стандартное отклонение выборки, тогда как Z-критерий используется когда стандартное отклонение известно."
      ]
    },
    {
      "cell_type": "markdown",
      "source": [
        "Задача 2:\n",
        "Проведите тест гипотезы. \n",
        "Утверждается, что шарики для подшипников, изготовленные автоматическим станком, имеют средний диаметр 17 мм. Используя односторонний критерий с α=0,05, проверить эту гипотезу, если в выборке из n=100 шариков средний диаметр оказался равным 17.5 мм, а дисперсия известна и равна 4 кв. мм."
      ],
      "metadata": {
        "id": "ap7f33N1PCSQ"
      }
    },
    {
      "cell_type": "code",
      "source": [
        "# Нулевая гипотеза: - mu = X_\n",
        "# Альтернативная гипотеза: X_ > mu\n",
        "from math import sqrt\n",
        "\n",
        "alpha = 0.05\n",
        "n = 100\n",
        "D = 4\n",
        "std = sqrt(D)\n",
        "mu = 17\n",
        "X_ = 17.5\n",
        "\n",
        "Z_crit = (X_ - mu)/(std/sqrt(n))\n",
        "print(f'При критерии = {alpha}, Z табличное = 1.645')\n",
        "print(f'Z наблюдаемое = {Z_crit} и лежит в критической области -> обнаружены весомые статистические различия и мы принимаем альтернативную гипотезу с вероятностью ошибки 5%')\n",
        "\n"
      ],
      "metadata": {
        "colab": {
          "base_uri": "https://localhost:8080/"
        },
        "id": "cOA5Zz3TPOJ5",
        "outputId": "5824bbe6-f413-443f-f583-0abd57ec2f66"
      },
      "execution_count": 6,
      "outputs": [
        {
          "output_type": "stream",
          "name": "stdout",
          "text": [
            "При критерии = 0.05, Z табличное = 1.645\n",
            "Z наблюдаемое = 2.5 и лежит в критической области -> обнаружены весомые статистические различия и мы принимаем альтернативную гипотезу с вероятностью ошибки 5%\n"
          ]
        }
      ]
    },
    {
      "cell_type": "markdown",
      "source": [
        "Задача 3: Проведите тест гипотезы. Продавец утверждает, что средний вес пачки печенья составляет 200 г.\n",
        "Из партии извлечена выборка из 10 пачек. Вес каждой пачки составляет:\n",
        "202, 203, 199, 197, 195, 201, 200, 204, 194, 190.\n",
        "Известно, что их веса распределены нормально.\n",
        "Верно ли утверждение продавца, если учитывать, что доверительная вероятность равна 99%? (Провести двусторонний тест.)"
      ],
      "metadata": {
        "id": "rbDR73ODeJpj"
      }
    },
    {
      "cell_type": "code",
      "source": [
        "# Нулевая гипотеза mu = X_\n",
        "# Алтернативная гипотеза mu != X_\n",
        "\n",
        "from math import sqrt\n",
        "import numpy as np\n",
        "from scipy import stats\n",
        "\n",
        "alpha = 0.01\n",
        "n = 10\n",
        "mu = 200\n",
        "x = np.array([202,203,199,197,195,201,200,204,194,190])\n",
        "q_r = 1 - alpha/2\n",
        "q_l = alpha/2\n",
        "\n",
        "mean_x = np.mean(x)\n",
        "std_x = np.std(x,ddof=1)\n",
        "\n",
        "t = (mean_x - mu)/(std_x/sqrt(n))\n",
        "c_crit = 3.249 # исходя из таблицы степеней свободы для 0.5%\n",
        "\n",
        "print(stats.ttest_1samp(x,200), t)\n",
        "print('Статистика t < табличного значения, p-value > alpha -> мы принимаем нулевую гипотезу')"
      ],
      "metadata": {
        "colab": {
          "base_uri": "https://localhost:8080/"
        },
        "id": "6Fx8JySiefao",
        "outputId": "39f07923-413c-4782-adb5-8130b0f19f21"
      },
      "execution_count": 14,
      "outputs": [
        {
          "output_type": "stream",
          "name": "stdout",
          "text": [
            "Ttest_1sampResult(statistic=-1.0651074037450896, pvalue=0.31456660352472854) -1.0651074037450896\n",
            "Статистика t < табличного значения, p-value > alpha -> мы принимаем нулевую гипотезу\n"
          ]
        }
      ]
    }
  ]
}