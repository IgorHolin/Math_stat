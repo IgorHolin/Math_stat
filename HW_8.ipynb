{
  "nbformat": 4,
  "nbformat_minor": 0,
  "metadata": {
    "colab": {
      "provenance": [],
      "authorship_tag": "ABX9TyPzd7MemhMnbz1Y7Ltba3sb",
      "include_colab_link": true
    },
    "kernelspec": {
      "name": "python3",
      "display_name": "Python 3"
    },
    "language_info": {
      "name": "python"
    }
  },
  "cells": [
    {
      "cell_type": "markdown",
      "metadata": {
        "id": "view-in-github",
        "colab_type": "text"
      },
      "source": [
        "<a href=\"https://colab.research.google.com/github/IgorHolin/Math_stat/blob/main/HW_8.ipynb\" target=\"_parent\"><img src=\"https://colab.research.google.com/assets/colab-badge.svg\" alt=\"Open In Colab\"/></a>"
      ]
    },
    {
      "cell_type": "code",
      "execution_count": 2,
      "metadata": {
        "id": "wKS4dkep6xFX"
      },
      "outputs": [],
      "source": [
        "from math import sqrt\n",
        "from scipy import stats as stats\n",
        "import numpy as np\n"
      ]
    },
    {
      "cell_type": "markdown",
      "source": [
        "Задача 1. Даны значения величины заработной платы заемщиков банка (zp) и значения их поведенческого кредитного скоринга (ks):\n",
        "zp = [35, 45, 190, 200, 40, 70, 54, 150, 120, 110],\n",
        "ks = [401, 574, 874, 919, 459, 739, 653, 902, 746, 832].\n",
        "Найдите ковариацию этих двух величин с помощью элементарных действий, а затем с помощью функции cov из numpy\n",
        "Полученные значения должны быть равны.\n",
        "Найдите коэффициент корреляции Пирсона с помощью ковариации и среднеквадратичных отклонений двух признаков,\n",
        "а затем с использованием функций из библиотек numpy и pandas."
      ],
      "metadata": {
        "id": "wg8vkQmU6_vq"
      }
    },
    {
      "cell_type": "code",
      "source": [
        "zp = np.array([35, 45, 190, 200, 40, 70, 54, 150, 120, 110])\n",
        "ks = np.array([401, 574, 874, 919, 459, 739, 653, 902, 746, 832])\n",
        "\n",
        "mean_zp = sum(zp)/len(zp)\n",
        "mean_ks = sum(ks)/len(ks)\n",
        "double_mean = sum(zp*ks)/len(zp)\n",
        "cov = double_mean - mean_ks*mean_zp\n",
        "\n",
        "r = cov/(np.std(zp)*np.std(ks))\n",
        "cov_np = np.cov(zp,ks,ddof=0)\n",
        "print(cov, cov_np) \n",
        "print(r, np.corrcoef(zp,ks))"
      ],
      "metadata": {
        "colab": {
          "base_uri": "https://localhost:8080/"
        },
        "id": "2CVDPAEa7KJc",
        "outputId": "1d445496-0b85-4cc9-b8ab-ad41ab88c2bc"
      },
      "execution_count": 13,
      "outputs": [
        {
          "output_type": "stream",
          "name": "stdout",
          "text": [
            "9157.839999999997 [[ 3494.64  9157.84]\n",
            " [ 9157.84 30468.89]]\n",
            "0.8874900920739158 [[1.         0.88749009]\n",
            " [0.88749009 1.        ]]\n"
          ]
        }
      ]
    },
    {
      "cell_type": "markdown",
      "source": [
        "Задача 2. Измерены значения IQ выборки студентов,\n",
        "обучающихся в местных технических вузах:\n",
        "131, 125, 115, 122, 131, 115, 107, 99, 125, 111.\n",
        "Известно, что в генеральной совокупности IQ распределен нормально.\n",
        "Найдите доверительный интервал для математического ожидания с надежностью 0.95."
      ],
      "metadata": {
        "id": "6u9erjTo-olw"
      }
    },
    {
      "cell_type": "code",
      "source": [
        "# alfa = 5%\n",
        "\n",
        "iq = np.array([131, 125, 115, 122, 131, 115, 107, 99, 125, 111])\n",
        "z = 1.96 #для 2.5%\n",
        "mean_iq = np.mean(iq)\n",
        "std_iq = np.std(iq)\n",
        "left = mean_iq - z * (std_iq/sqrt(len(iq)))\n",
        "right = mean_iq + z * (std_iq/sqrt(len(iq)))\n",
        "\n",
        "print([left, right])"
      ],
      "metadata": {
        "colab": {
          "base_uri": "https://localhost:8080/"
        },
        "id": "UboOJIRH-tnP",
        "outputId": "22d733a6-4a2c-4d8d-844b-dba0245716f1"
      },
      "execution_count": 15,
      "outputs": [
        {
          "output_type": "stream",
          "name": "stdout",
          "text": [
            "[111.89914728444546, 124.30085271555453]\n"
          ]
        }
      ]
    },
    {
      "cell_type": "markdown",
      "source": [
        "Задача 3. Известно, что рост футболистов в сборной распределен нормально\n",
        "с дисперсией генеральной совокупности, равной 25 кв.см. Объем выборки равен 27,\n",
        "среднее выборочное составляет 174.2. Найдите доверительный интервал для математического\n",
        "ожидания с надежностью 0.95."
      ],
      "metadata": {
        "id": "NYcqYKn9B8Ma"
      }
    },
    {
      "cell_type": "code",
      "source": [
        "#alfa = 5%\n",
        "\n",
        "var_x = 25\n",
        "n = 27\n",
        "mean_x = 174.2\n",
        "z = 1.96\n",
        "std_x = sqrt(var_x)\n",
        "\n",
        "left = mean_x - z * (std_x/sqrt(n))\n",
        "right = mean_x + z * (std_x/sqrt(n))\n",
        "\n",
        "print([left, right])"
      ],
      "metadata": {
        "colab": {
          "base_uri": "https://localhost:8080/"
        },
        "id": "ZcgwmOkqCBtx",
        "outputId": "fca87d79-e8d5-4890-e3f9-efffb7711cdc"
      },
      "execution_count": 17,
      "outputs": [
        {
          "output_type": "stream",
          "name": "stdout",
          "text": [
            "[172.31398912064722, 176.08601087935276]\n"
          ]
        }
      ]
    }
  ]
}