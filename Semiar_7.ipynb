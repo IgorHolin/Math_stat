{
  "nbformat": 4,
  "nbformat_minor": 0,
  "metadata": {
    "colab": {
      "provenance": [],
      "authorship_tag": "ABX9TyPlva31IENXyX6A50YwBrf1",
      "include_colab_link": true
    },
    "kernelspec": {
      "name": "python3",
      "display_name": "Python 3"
    },
    "language_info": {
      "name": "python"
    }
  },
  "cells": [
    {
      "cell_type": "markdown",
      "metadata": {
        "id": "view-in-github",
        "colab_type": "text"
      },
      "source": [
        "<a href=\"https://colab.research.google.com/github/IgorHolin/Math_stat/blob/main/Semiar_7.ipynb\" target=\"_parent\"><img src=\"https://colab.research.google.com/assets/colab-badge.svg\" alt=\"Open In Colab\"/></a>"
      ]
    },
    {
      "cell_type": "code",
      "execution_count": 2,
      "metadata": {
        "id": "QTsXptr9nlE9"
      },
      "outputs": [],
      "source": [
        "import numpy as np\n",
        "import scipy.stats as stats"
      ]
    },
    {
      "cell_type": "code",
      "source": [
        "x1 = np.array([1000,1380,1200])\n",
        "x2 = np.array([1400,1600,1180,1220])\n",
        "x3 = np.concatenate((x1,x2), axis=0)\n",
        "x1_ranks = 9\n",
        "x2_ranks = 19\n",
        "\n",
        "U = len(x1)*len(x2) + (len(x2)*(len(x2)+1))/2 - x2_ranks\n",
        "\n",
        "print(U)\n",
        "print(stats.mannwhitneyu(x1,x2))"
      ],
      "metadata": {
        "colab": {
          "base_uri": "https://localhost:8080/"
        },
        "id": "yxbwgbEIrXsQ",
        "outputId": "be2e4898-7ef6-412e-e36f-f4f660c3c730"
      },
      "execution_count": 16,
      "outputs": [
        {
          "output_type": "stream",
          "name": "stdout",
          "text": [
            "3.0\n",
            "MannwhitneyuResult(statistic=3.0, pvalue=0.4)\n"
          ]
        }
      ]
    },
    {
      "cell_type": "code",
      "source": [
        "X= np.array([20,17, 14, 42, 50, 62, 8, 49, 81, 54, 48, 55, 56])\n",
        "Y= np.array([20, 26, 1, 24, 1, 47, 15, 7, 65, 9, 21, 36, 30])\n",
        "\n",
        "X2= np.array([ 32, 41, 51, 29, 76, 47, 60, 58, 40, 64, 73, 66, 73])\n",
        "Y2= np.array ([42, 90, 71, 47, 56, 43, 137, 63, 28, 60, 87, 69, 50])\n",
        "\n",
        "print(stats.wilcoxon(X,Y), stats.wilcoxon(X2,Y2))"
      ],
      "metadata": {
        "colab": {
          "base_uri": "https://localhost:8080/"
        },
        "id": "xsI24I_z0ZoW",
        "outputId": "cc4d8323-97cb-44b1-c451-482073990aab"
      },
      "execution_count": 19,
      "outputs": [
        {
          "output_type": "stream",
          "name": "stdout",
          "text": [
            "WilcoxonResult(statistic=3.0, pvalue=0.004741768038406972) WilcoxonResult(statistic=31.5, pvalue=0.339599609375)\n"
          ]
        },
        {
          "output_type": "stream",
          "name": "stderr",
          "text": [
            "/usr/local/lib/python3.8/dist-packages/scipy/stats/morestats.py:3141: UserWarning: Exact p-value calculation does not work if there are ties. Switching to normal approximation.\n",
            "  warnings.warn(\"Exact p-value calculation does not work if there are \"\n"
          ]
        }
      ]
    }
  ]
}