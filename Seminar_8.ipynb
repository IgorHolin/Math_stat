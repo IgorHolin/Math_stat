{
  "nbformat": 4,
  "nbformat_minor": 0,
  "metadata": {
    "colab": {
      "provenance": [],
      "authorship_tag": "ABX9TyPTZSZZE/qyg47+Z2Fxomne",
      "include_colab_link": true
    },
    "kernelspec": {
      "name": "python3",
      "display_name": "Python 3"
    },
    "language_info": {
      "name": "python"
    }
  },
  "cells": [
    {
      "cell_type": "markdown",
      "metadata": {
        "id": "view-in-github",
        "colab_type": "text"
      },
      "source": [
        "<a href=\"https://colab.research.google.com/github/IgorHolin/Math_stat/blob/main/Seminar_8.ipynb\" target=\"_parent\"><img src=\"https://colab.research.google.com/assets/colab-badge.svg\" alt=\"Open In Colab\"/></a>"
      ]
    },
    {
      "cell_type": "code",
      "source": [
        "import matplotlib.pyplot as plt\n",
        "import numpy as np\n",
        "from scipy import stats as stats\n",
        "from math import sqrt"
      ],
      "metadata": {
        "id": "AktLlkQli_xU"
      },
      "execution_count": 14,
      "outputs": []
    },
    {
      "cell_type": "markdown",
      "source": [
        "Ex_1"
      ],
      "metadata": {
        "id": "pOc-KzsTizZf"
      }
    },
    {
      "cell_type": "code",
      "execution_count": 9,
      "metadata": {
        "colab": {
          "base_uri": "https://localhost:8080/",
          "height": 282
        },
        "id": "ejvgLe_mYdoc",
        "outputId": "dc68cf7e-22ab-4d26-fb8d-3840800944c3"
      },
      "outputs": [
        {
          "output_type": "stream",
          "name": "stdout",
          "text": [
            "0.7422004694043977\n"
          ]
        },
        {
          "output_type": "display_data",
          "data": {
            "text/plain": [
              "<Figure size 432x288 with 1 Axes>"
            ],
            "image/png": "[encoded data removed]"
          },
          "metadata": {
            "needs_background": "light"
          }
        }
      ],
      "source": [
        "x = np.array([10, 8, 13, 9, 11, 14, 6, 4, 12, 7, 5])\n",
        "y = np.array([8.04, 6.95, 7.58, 8.81, 8.33, 9.96, 7.24, 4.26, 10.84, 4.82, 5.68])\n",
        "\n",
        "std_x = np.std(x, ddof=1)\n",
        "std_y = np.std(y, ddof=1)\n",
        "mean_x = np.mean(x)\n",
        "mean_y = np.mean(y)\n",
        "\n",
        "cov = np.mean(x*y) - mean_x * mean_y\n",
        "r = cov/(std_x*std_y)\n",
        "\n",
        "print(r)\n",
        "plt.scatter(x,y)\n",
        "plt.show()"
      ]
    },
    {
      "cell_type": "markdown",
      "source": [
        "Ex_2"
      ],
      "metadata": {
        "id": "7SnLVXt1rZkE"
      }
    },
    {
      "cell_type": "code",
      "source": [
        "# alfa = 5%\n",
        "\n",
        "a = np.array([12, 10, 11, 19, 13, 11, 17, 15, 19, 14, 21, 18, 21, 11, 17, 14, 15, 17, 20, 19])\n",
        "b = np.array([11, 13, 18, 15, 17, 18, 10, 21, 26, 15, 11, 12, 15, 17, 10, 18, 18, 12,21, 20])\n",
        "\n",
        "std_a = np.std(a, ddof=1)\n",
        "std_b = np.std(b, ddof=1)\n",
        "mean_a = np.mean(a)\n",
        "mean_b = np.mean(b)\n",
        "\n",
        "stud = (mean_a - mean_b)/sqrt(std_a/len(a) + std_b/len(b))\n",
        "k = len(a)+len(b) - 2\n",
        "\n",
        "print(stud)\n",
        "print(stats.ttest_ind(a,b))"
      ],
      "metadata": {
        "colab": {
          "base_uri": "https://localhost:8080/"
        },
        "id": "f7QIzm6YrcNJ",
        "outputId": "a42b7fdc-86ed-404a-8dff-bfeb72aeaec4"
      },
      "execution_count": 22,
      "outputs": [
        {
          "output_type": "stream",
          "name": "stdout",
          "text": [
            "-0.1599663264228627\n",
            "Ttest_indResult(statistic=-0.1599663264228627, pvalue=0.8737549039369696)\n"
          ]
        }
      ]
    }
  ]
}