{
  "nbformat": 4,
  "nbformat_minor": 0,
  "metadata": {
    "colab": {
      "provenance": [],
      "authorship_tag": "ABX9TyOj0JGDSehT/g44ylyu0jB2"
    },
    "kernelspec": {
      "name": "python3",
      "display_name": "Python 3"
    },
    "language_info": {
      "name": "python"
    }
  },
  "cells": [
    {
      "cell_type": "code",
      "execution_count": 1,
      "metadata": {
        "id": "rLIkJo_2nDUt"
      },
      "outputs": [],
      "source": [
        "import numpy as np\n",
        "import scipy.stats as stats"
      ]
    },
    {
      "cell_type": "markdown",
      "source": [
        "Задача 1. Известно, что генеральная совокупность распределена нормально\n",
        "со средним квадратическим отклонением, равным 16.\n",
        "Найти доверительный интервал для оценки математического ожидания a с надежностью 0.95,\n",
        "если выборочная средняя M = 80, а объем выборки n = 256."
      ],
      "metadata": {
        "id": "rPb7d6zwFtQW"
      }
    },
    {
      "cell_type": "code",
      "source": [
        "std = 16\n",
        "Z = 1.96\n",
        "mu = 80\n",
        "n = 256\n",
        "\n",
        "left = mu - Z*(std/np.sqrt(n))\n",
        "right = mu + Z*(std/np.sqrt(n))\n",
        "print(left, right)"
      ],
      "metadata": {
        "colab": {
          "base_uri": "https://localhost:8080/"
        },
        "id": "mQQLq1m9HxpK",
        "outputId": "0f38b24a-4d38-4390-ae25-8544b5c74781"
      },
      "execution_count": 2,
      "outputs": [
        {
          "output_type": "stream",
          "name": "stdout",
          "text": [
            "78.04 81.96\n"
          ]
        }
      ]
    },
    {
      "cell_type": "markdown",
      "source": [
        "Задача 2. В результате 10 независимых измерений некоторой величины X, выполненных с одинаковой точностью,\n",
        "получены опытные данные:\n",
        "6.9, 6.1, 6.2, 6.8, 7.5, 6.3, 6.4, 6.9, 6.7, 6.1\n",
        "Предполагая, что результаты измерений подчинены нормальному закону распределения вероятностей,\n",
        "оценить истинное значение величины X при помощи доверительного интервала, покрывающего это\n",
        "значение с доверительной вероятностью 0,95."
      ],
      "metadata": {
        "id": "WLm35hriK-kP"
      }
    },
    {
      "cell_type": "code",
      "source": [
        "x = np.array([6.9, 6.1, 6.2, 6.8, 7.5, 6.3, 6.4, 6.9, 6.7, 6.1])\n",
        "std = np.std(x, ddof=1)\n",
        "mean = np.mean(x)\n",
        "t = stats.t.ppf(0.975, 9)\n",
        "\n",
        "left = mean - t*(std/np.sqrt(10))\n",
        "right = mean + t*(std/np.sqrt(10))\n",
        "print(left, right)"
      ],
      "metadata": {
        "colab": {
          "base_uri": "https://localhost:8080/"
        },
        "id": "tcoaR8plLC4z",
        "outputId": "fadc2e58-8633-4b42-8ce6-72e439268f9a"
      },
      "execution_count": 4,
      "outputs": [
        {
          "output_type": "stream",
          "name": "stdout",
          "text": [
            "6.267515851415713 6.912484148584288\n"
          ]
        }
      ]
    },
    {
      "cell_type": "markdown",
      "source": [
        "Задача 3. Рост дочерей 175, 167, 154, 174, 178, 148, 160, 167, 169, 170\n",
        "Рост матерей 178, 165, 165, 173, 168, 155, 160, 164, 178, 175\n",
        "\n",
        "Используя эти данные построить 95% доверительный интервал для разности среднего роста родителей и детей."
      ],
      "metadata": {
        "id": "AYfmMgcENMWX"
      }
    },
    {
      "cell_type": "code",
      "source": [
        "daughters = np.array([175, 167, 154, 174, 178, 148, 160, 167, 169, 170])\n",
        "mothers = np.array([178, 165, 165, 173, 168, 155, 160, 164, 178, 175])\n",
        "n = len(daughters)\n",
        "mean_1 = np.mean(daughters)\n",
        "mean_2 = np.mean(mothers)\n",
        "d_1 = np.var(daughters, ddof= 1)\n",
        "d_2 = np.var(mothers, ddof= 1)\n",
        "D = (d_1 + d_2)/2\n",
        "S_delta = np.sqrt(D/n + D/n)\n",
        "t = stats.t.ppf(0.975, 18)\n",
        "\n",
        "left = (mean_1 - mean_2) - t * S_delta\n",
        "right = (mean_1 - mean_2) + t * S_delta\n",
        "print(round(left, 3), round(right, 3))"
      ],
      "metadata": {
        "colab": {
          "base_uri": "https://localhost:8080/"
        },
        "id": "TFX79K5oNPO_",
        "outputId": "d5350d45-0223-4948-87b6-e0ecf65899cd"
      },
      "execution_count": 13,
      "outputs": [
        {
          "output_type": "stream",
          "name": "stdout",
          "text": [
            "-10.068 6.268\n"
          ]
        }
      ]
    }
  ]
}