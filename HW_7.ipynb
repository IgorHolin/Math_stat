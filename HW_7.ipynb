{
  "nbformat": 4,
  "nbformat_minor": 0,
  "metadata": {
    "colab": {
      "provenance": [],
      "authorship_tag": "ABX9TyNCuePZWcJidXU/9+Wm2zR0",
      "include_colab_link": true
    },
    "kernelspec": {
      "name": "python3",
      "display_name": "Python 3"
    },
    "language_info": {
      "name": "python"
    }
  },
  "cells": [
    {
      "cell_type": "markdown",
      "metadata": {
        "id": "view-in-github",
        "colab_type": "text"
      },
      "source": [
        "<a href=\"https://colab.research.google.com/github/IgorHolin/Math_stat/blob/main/HW_7.ipynb\" target=\"_parent\"><img src=\"https://colab.research.google.com/assets/colab-badge.svg\" alt=\"Open In Colab\"/></a>"
      ]
    },
    {
      "cell_type": "code",
      "execution_count": 1,
      "metadata": {
        "id": "unV3b98XCEmC"
      },
      "outputs": [],
      "source": [
        "import numpy as np\n",
        "from scipy import stats as stats\n",
        "\n",
        "# При всех пояснениях результатов используется источник support.mintab.com. "
      ]
    },
    {
      "cell_type": "markdown",
      "source": [
        "Задача 1. Даны две независимые выборки. Не соблюдается условие нормальности\n",
        "x1 380,420, 290\n",
        "y1 140,360,200,900\n",
        "Сделайте вывод по результатам, полученным с помощью функции"
      ],
      "metadata": {
        "id": "IQXSNa3GCR9h"
      }
    },
    {
      "cell_type": "code",
      "source": [
        "# Так как выборок 2 и они независимы - тест Манна-Уитни\n",
        "x = np.array([380,420,290])\n",
        "y = np.array([140,360,200,900])\n",
        "\n",
        "print(stats.mannwhitneyu(x,y))\n",
        "print('Т.к согласно таблице значений статистика должна быть 0 а мы имеем 8 и p-value > alfa (5%) мы принимаем альтернативную гипотезу')"
      ],
      "metadata": {
        "colab": {
          "base_uri": "https://localhost:8080/"
        },
        "id": "NJ6MKu8ZCcd6",
        "outputId": "61610813-48de-4799-8c91-d65a2156ff88"
      },
      "execution_count": 4,
      "outputs": [
        {
          "output_type": "stream",
          "name": "stdout",
          "text": [
            "MannwhitneyuResult(statistic=8.0, pvalue=0.6285714285714286)\n",
            "Т.к согласно таблице значений статистика должна быть 0 а мы имеем 8 и p-value больше классичесского alfa = 5% мы принимаем альтернативную гепотизу\n"
          ]
        }
      ]
    },
    {
      "cell_type": "markdown",
      "source": [
        "Задача 2. Исследовалось влияние препарата на уровень давления пациентов. Сначала измерялось давление до приема препарата, потом через 10 минут и через 30 минут. Есть ли статистически значимые различия?\n",
        "1е измерение до приема препарата: 150, 160, 165, 145, 155\n",
        "2е измерение через 10 минут: 140, 155, 150, 130, 135\n",
        "3е измерение через 30 минут: 130, 130, 120, 130, 125"
      ],
      "metadata": {
        "id": "hPBlkfH1EYU9"
      }
    },
    {
      "cell_type": "code",
      "source": [
        "# Так как мы имеем 3 зависимые выборки используем тест Фридмана\n",
        "measure_1 = np.array([50, 160, 165, 145, 155])\n",
        "measure_2 = np.array([140, 155, 150, 130, 135])\n",
        "measure_3 = np.array([130, 130, 120, 130, 125])\n",
        "\n",
        "print(stats.friedmanchisquare(measure_1, measure_2, measure_3))\n",
        "print('При использовании теста Фримана, если p-value > alfa (5%) мы предполагаем, что статистической разницы не найдено и принимаем нулевую гипотезу. Различий нет.')"
      ],
      "metadata": {
        "colab": {
          "base_uri": "https://localhost:8080/"
        },
        "id": "OM9ma6YGEku7",
        "outputId": "24943f95-a651-4476-ca9d-e6507ec85c6b"
      },
      "execution_count": 6,
      "outputs": [
        {
          "output_type": "stream",
          "name": "stdout",
          "text": [
            "FriedmanchisquareResult(statistic=4.526315789473681, pvalue=0.10402147666803775)\n",
            "При использовании теста Фримана, если p-value > alfa мы предполагаем, что статистической разницы не найдено и принимаем нулевую гепотезу. Различий нет.\n"
          ]
        }
      ]
    },
    {
      "cell_type": "markdown",
      "source": [
        "Задача 3. Сравните 1 и 2 е измерения, предполагая, что 3го измерения через 30 минут не было."
      ],
      "metadata": {
        "id": "s3u0Ox7VGuU4"
      }
    },
    {
      "cell_type": "code",
      "source": [
        "# Т.к мы имеем зависимые измерения, но всего 2 - выбираем тест Уилкоксона\n",
        "measure_1 = np.array([50, 160, 165, 145, 155])\n",
        "measure_2 = np.array([140, 155, 150, 130, 135])\n",
        "\n",
        "print(stats.wilcoxon(measure_1, measure_2))\n",
        "print('При тесте Уилкоксона, если p-value > alfa (5%) мы принимаем нулевую гипотезу. Статистических различий не обнаружено')"
      ],
      "metadata": {
        "colab": {
          "base_uri": "https://localhost:8080/"
        },
        "id": "6aol36fxGtWf",
        "outputId": "3bbc2b44-c748-4292-af57-de00ab0ab04e"
      },
      "execution_count": 8,
      "outputs": [
        {
          "output_type": "stream",
          "name": "stdout",
          "text": [
            "WilcoxonResult(statistic=5.0, pvalue=0.625)\n",
            "При тесте Уилкоксона, если p-value > alfa (5%) мы принимаем нулевую гипотезу. Статистических различий не обнаружено\n"
          ]
        }
      ]
    },
    {
      "cell_type": "markdown",
      "source": [
        "Задача 4. Даны 3 группы учеников плавания.\n",
        "В 1 группе время на дистанцию 50 м составляют:\n",
        "56, 60, 62, 55, 71, 67, 59, 58, 64, 67\n",
        "Вторая группа : 57, 58, 69, 48, 72, 70, 68, 71, 50, 53\n",
        "Третья группа: 57, 67, 49, 48, 47, 55, 66, 51, 54"
      ],
      "metadata": {
        "id": "Huo-HEnhIbJI"
      }
    },
    {
      "cell_type": "code",
      "source": [
        "# Так как мы имеем 3 независимых группы используем тест Краскала - Уоллиса\n",
        "gr_1 = np.array([56, 60, 62, 55, 71, 67, 59, 58, 64, 67])\n",
        "gr_2 = np.array([57, 58, 69, 48, 72, 70, 68, 71, 50, 53])\n",
        "gr_3 = np.array([57, 67, 49, 48, 47, 55, 66, 51, 54])\n",
        "\n",
        "print(stats.kruskal(gr_1, gr_2, gr_3))\n",
        "print('При тесте Краскала-Уоллиса, если p-value > alfa(5%) мы принимаем нулевую гипотезу. Статистических различий не обнаружено')"
      ],
      "metadata": {
        "colab": {
          "base_uri": "https://localhost:8080/"
        },
        "id": "yUvTwSF0J1qg",
        "outputId": "db5aaa1e-8872-4a78-b6c8-76320342ba9d"
      },
      "execution_count": 10,
      "outputs": [
        {
          "output_type": "stream",
          "name": "stdout",
          "text": [
            "KruskalResult(statistic=5.465564058257224, pvalue=0.0650380998590494)\n",
            "При тесте Краскала-Уоллиса, если p-value > alfa(5%) мы принимаем нулевую гипотезу. Статистических различий не обнаружено\n"
          ]
        }
      ]
    },
    {
      "cell_type": "markdown",
      "source": [
        "Задача 5. Заявляется, что партия изготавливается со средним арифметическим 2,5 см. Проверить данную гипотезу, если известно, что размеры изделий подчинены нормальному закону распределения. Объем выборки 10, уровень статистической значимости 5%\n",
        "2.51, 2.35, 2.74, 2.56, 2.40, 2.36, 2.65, 2.7, 2.67, 2.34"
      ],
      "metadata": {
        "id": "8hNHEQ71Lapc"
      }
    },
    {
      "cell_type": "code",
      "source": [
        "from math import sqrt\n",
        "\n",
        "# Провожу 2-х сторонний тест с alfa = 5%\n",
        "\n",
        "mu = 2.5\n",
        "n = 10\n",
        "alfa = 0.05\n",
        "x = np.array([2.51, 2.35, 2.74, 2.56, 2.40, 2.36, 2.65, 2.7, 2.67, 2.34])\n",
        "mean_x = np.mean(x)\n",
        "std_x = np.std(x)\n",
        "c_crit = 2.262\n",
        "\n",
        "t = (mean_x - mu)/(std_x/sqrt(n))\n",
        "\n",
        "print(stats.ttest_1samp(x,mu), t)\n",
        "print('Статистика значительно меньше табличного значения -> мы принимаем нулевую гипотезу')"
      ],
      "metadata": {
        "colab": {
          "base_uri": "https://localhost:8080/"
        },
        "id": "yASznrgvLg_1",
        "outputId": "7c9ffa63-d26e-4bbe-c0d9-1a03a1056187"
      },
      "execution_count": 13,
      "outputs": [
        {
          "output_type": "stream",
          "name": "stdout",
          "text": [
            "Ttest_1sampResult(statistic=0.5630613661802959, pvalue=0.5871439993940628) 0.5935187931919458\n",
            "Статистика значительно меньше табличного значения -> мы принимаем нулевую гипотезу\n"
          ]
        }
      ]
    }
  ]
}